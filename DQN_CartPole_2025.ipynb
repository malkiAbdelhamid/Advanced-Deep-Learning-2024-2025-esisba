{
 "cells": [
  {
   "cell_type": "code",
   "execution_count": 1,
   "metadata": {
    "colab": {
     "base_uri": "https://localhost:8080/"
    },
    "id": "mYu0OlZ6sK7d",
    "is_executing": true,
    "outputId": "24df717b-5fdb-4c5b-a14f-a06e4002aea7"
   },
   "outputs": [
    {
     "name": "stdout",
     "output_type": "stream",
     "text": [
      "Requirement already satisfied: gymnasium in d:\\enseignement\\2024-2025\\semestre1\\advanced_deep_learning_(rl)\\labs\\lab2_deep_q_learning\\venv\\lib\\site-packages (1.0.0)\n",
      "Requirement already satisfied: numpy>=1.21.0 in d:\\enseignement\\2024-2025\\semestre1\\advanced_deep_learning_(rl)\\labs\\lab2_deep_q_learning\\venv\\lib\\site-packages (from gymnasium) (2.0.2)\n",
      "Requirement already satisfied: cloudpickle>=1.2.0 in d:\\enseignement\\2024-2025\\semestre1\\advanced_deep_learning_(rl)\\labs\\lab2_deep_q_learning\\venv\\lib\\site-packages (from gymnasium) (3.1.0)\n",
      "Requirement already satisfied: typing-extensions>=4.3.0 in d:\\enseignement\\2024-2025\\semestre1\\advanced_deep_learning_(rl)\\labs\\lab2_deep_q_learning\\venv\\lib\\site-packages (from gymnasium) (4.12.2)\n",
      "Requirement already satisfied: farama-notifications>=0.0.1 in d:\\enseignement\\2024-2025\\semestre1\\advanced_deep_learning_(rl)\\labs\\lab2_deep_q_learning\\venv\\lib\\site-packages (from gymnasium) (0.0.4)\n",
      "Requirement already satisfied: importlib-metadata>=4.8.0 in d:\\enseignement\\2024-2025\\semestre1\\advanced_deep_learning_(rl)\\labs\\lab2_deep_q_learning\\venv\\lib\\site-packages (from gymnasium) (8.5.0)\n",
      "Requirement already satisfied: zipp>=3.20 in d:\\enseignement\\2024-2025\\semestre1\\advanced_deep_learning_(rl)\\labs\\lab2_deep_q_learning\\venv\\lib\\site-packages (from importlib-metadata>=4.8.0->gymnasium) (3.20.2)\n"
     ]
    },
    {
     "name": "stderr",
     "output_type": "stream",
     "text": [
      "\n",
      "[notice] A new release of pip is available: 23.2.1 -> 24.3.1\n",
      "[notice] To update, run: python.exe -m pip install --upgrade pip\n"
     ]
    }
   ],
   "source": [
    "!pip install gymnasium"
   ]
  },
  {
   "cell_type": "code",
   "execution_count": 2,
   "metadata": {
    "id": "VpsHzyWmseVk",
    "is_executing": true
   },
   "outputs": [],
   "source": [
    "import gymnasium as gym\n",
    "import numpy as np\n",
    "import pandas as pd\n",
    "import matplotlib.pyplot as plt\n",
    "from collections import deque\n",
    "import random\n",
    "from tqdm import tqdm\n",
    "\n",
    "import torch\n",
    "from torch import nn\n",
    "import torch.nn.functional as F\n",
    "import torch.optim as optim\n"
   ]
  },
  {
   "cell_type": "code",
   "execution_count": 3,
   "metadata": {
    "id": "cQJgkAMMsEoK"
   },
   "outputs": [],
   "source": [
    "device = torch.device(\"cuda:0\" if torch.cuda.is_available() else \"cpu\")"
   ]
  },
  {
   "cell_type": "code",
   "execution_count": 4,
   "metadata": {
    "id": "jQk7LBu5s3yo"
   },
   "outputs": [],
   "source": [
    "# Define model\n",
    "class QNetwork(nn.Module):\n",
    "\n",
    "    def __init__(self, state_shape, h1_nodes, action_space_size, seed):\n",
    "        \"\"\" state_shape (int): Dimension of each state\n",
    "            h1_nodes (int): Number of nodes in first hidden layer\n",
    "            action_space_size (int): Dimension of each action\n",
    "            seed (int): Random seed\n",
    "        \"\"\"\n",
    "        super(QNetwork, self).__init__()\n",
    "        self.seed = torch.manual_seed(seed)\n",
    "        self.fc1 = nn.Linear(state_shape, h1_nodes)\n",
    "        self.fc2 = nn.Linear(h1_nodes,h1_nodes)\n",
    "        self.out = nn.Linear(h1_nodes, action_space_size)\n",
    "\n",
    "    def forward(self, state):\n",
    "        \"\"\"Build a network that maps state -> action values.\"\"\"\n",
    "        x = self.fc1(state)\n",
    "        x = F.relu(x)\n",
    "        x = self.fc2(x)\n",
    "        x = F.relu(x)\n",
    "        x=self.out(x)\n",
    "        return x"
   ]
  },
  {
   "cell_type": "code",
   "execution_count": 5,
   "metadata": {
    "id": "W2a1w61qtpWV"
   },
   "outputs": [],
   "source": [
    "# Define memory for Experience Replay\n",
    "class ReplayMemory():\n",
    "    def __init__(self, maxlen, batch_size):\n",
    "        self.memory = deque([], maxlen=maxlen)\n",
    "        self.batch_size = batch_size\n",
    "\n",
    "    def append(self, experience):\n",
    "        self.memory.append(experience)\n",
    "\n",
    "    def sample(self):\n",
    "        return random.sample(self.memory, self.batch_size)\n",
    "\n",
    "    def __len__(self):\n",
    "        return len(self.memory)"
   ]
  },
  {
   "cell_type": "code",
   "execution_count": null,
   "metadata": {
    "id": "YbRg16A-uGjZ"
   },
   "outputs": [],
   "source": [
    "#Define the Deep QLearning Agent\n",
    "class DQAgent():\n",
    "        \"\"\"Interacts with and learns from the environment.\"\"\"\n",
    "\n",
    "        def __init__(self, state_shape, action_space_size, seed, h1_nodes=64, learning_rate=5e-4, replay_memory_size=int(1e5),batch_size=64, UPDATE_EVERY=1000, LEARN_EVERY=4,GAMMA=0.99):\n",
    "           \"\"\"Initialize an Agent object. \"\"\"\n",
    "\n",
    "           self.state_shape = state_shape\n",
    "           self.action_space_size = action_space_size\n",
    "           self.seed = random.seed(seed)\n",
    "           self.GAMMA = GAMMA\n",
    "           self.UPDATE_EVERY = UPDATE_EVERY\n",
    "           self.LERN_EVERY = LEARN_EVERY\n",
    "           self.h1_nodes = h1_nodes\n",
    "           self.learning_rate = learning_rate\n",
    "           self.batch_size = batch_size\n",
    "           self.replay_memory_size = replay_memory_size\n",
    "\n",
    "\n",
    "           # Q-Network\n",
    "           self.local_dqn = QNetwork(self.state_shape, self.h1_nodes, self.action_space_size, seed).to(device)\n",
    "           self.target_dqn = QNetwork(self.state_shape, self.h1_nodes, self.action_space_size, seed).to(device)\n",
    "\n",
    "           self.optimizer = optim.Adam(self.local_dqn.parameters(), lr=self.learning_rate)\n",
    "\n",
    "           # Replay memory\n",
    "           self.memory = ReplayMemory( self.replay_memory_size,self.batch_size)\n",
    "\n",
    "           # Initialize time step (for learn every LEARN_EVERY steps)\n",
    "           self.l_step = 0\n",
    "\n",
    "           # Initialize time step (for updating every UPDATE_EVERY steps)\n",
    "           self.t_step = 0\n",
    "            \n",
    "        def state_to_dqn_input(self, state)->torch.Tensor:\n",
    "           return torch.from_numpy(state).float().unsqueeze(0).to(device)\n",
    "\n",
    "        #Returns actions for given state\n",
    "        #Epsilon-greedy action selection\n",
    "        def act(self, state, eps=0.):\n",
    "          if random.random() > eps:\n",
    "            action_values = self.local_dqn(self.state_to_dqn_input(state))\n",
    "            return np.argmax(action_values.cpu().data.numpy())\n",
    "\n",
    "          else:\n",
    "            return random.choice(np.arange(self.action_space_size))\n",
    "\n",
    "        def step(self, state, action, reward, next_state, done):\n",
    "           # Save experience in replay memory\n",
    "           self.memory.append((state, action, reward, next_state, done))\n",
    "\n",
    "           # If enough samples are available in memory, get random subset and learn\n",
    "           self.l_step = (self.l_step + 1) % self.LERN_EVERY\n",
    "           if self.l_step == 0 and len(self.memory) > self.batch_size:\n",
    "                experiences = self.memory.sample()\n",
    "                self.learn(experiences)\n",
    "\n",
    "           # Copy local network to target network every UPDATE_EVERY time steps\n",
    "           self.t_step = (self.t_step + 1) % self.UPDATE_EVERY\n",
    "           if self.t_step == 0:\n",
    "              self.target_dqn.load_state_dict(self.local_dqn.state_dict())\n",
    "\n",
    "        def learn(self, experiences):\n",
    "          q_target_list = []\n",
    "          q_expected_list = []\n",
    "          # Obtain random minibatch of tuples from ReplayMemory\n",
    "          for  state, action, reward, next_state, done in experiences:\n",
    "             # Convert state and next_state to tensors only if they are not already tensors\n",
    "\n",
    "             state = self.state_to_dqn_input(state)\n",
    "             next_state = self.state_to_dqn_input(next_state)\n",
    "             action= torch.from_numpy(np.array([action])).long().unsqueeze(0).to(device)\n",
    "             reward = torch.from_numpy(np.array([reward])).float().unsqueeze(0).to(device)\n",
    "             ## Compute and minimize the loss\n",
    "\n",
    "             ### Extract next maximum estimated value from target network\n",
    "             if(done):\n",
    "               q_target =  reward\n",
    "             else:\n",
    "               q_target=  reward + self.GAMMA *self.target_dqn(next_state).max(1)[0]\n",
    "\n",
    "             ### Calculate expected value from local network\n",
    "             q_local = self.local_dqn(state).gather(1, action)\n",
    "\n",
    "             q_target_list.append(q_target)\n",
    "             q_expected_list.append(q_local)\n",
    "\n",
    "          ### Loss calculation (we used Mean squared error)\n",
    "          loss = F.mse_loss(torch.cat(q_expected_list), torch.cat(q_target_list))\n",
    "          self.optimizer.zero_grad()\n",
    "          loss.backward()\n",
    "          self.optimizer.step()\n",
    "\n",
    "\n",
    "        "
   ]
  },
  {
   "cell_type": "code",
   "execution_count": 7,
   "metadata": {
    "collapsed": false
   },
   "outputs": [],
   "source": [
    "def dqn_train(agent, n_episodes=300, max_t=1000, eps_start=1.0, eps_end=0.01, eps_decay=0.995):\n",
    "\n",
    "    scores = []                        # list containing scores from each episode\n",
    "    scores_window = deque(maxlen=100)  # last 100 scores\n",
    "    eps = eps_start                    # initialize epsilon\n",
    "\n",
    "    for i_episode in  tqdm(range(1, n_episodes+1)):\n",
    "        state = env.reset()[0]\n",
    "\n",
    "        score = 0\n",
    "        for t in range(max_t):\n",
    "            # select an action\n",
    "            action = agent.act(state, eps)\n",
    "\n",
    "            #apply the selected action\n",
    "            next_state, reward, done, _,_=env.step(action)\n",
    "            \n",
    "            # store the current experience\n",
    "            agent.step(state, action, reward, next_state, done)\n",
    "\n",
    "            state = next_state\n",
    "            score += reward\n",
    "            if done:\n",
    "                break\n",
    "                \n",
    "        scores_window.append(score)       # save most recent score\n",
    "        scores.append(score)              # save most recent score\n",
    "        eps = max(eps_end, eps_decay*eps) # decrease epsilon\n",
    "\n",
    "        if i_episode % 50 == 0:\n",
    "            print('\\rEpisode {}\\tAverage Score: {:.2f}'.format(i_episode, np.mean(scores_window)))\n",
    "\n",
    "    torch.save(agent.local_dqn.state_dict(), 'checkpoint.pth')\n",
    "    return scores"
   ]
  },
  {
   "cell_type": "code",
   "execution_count": 8,
   "metadata": {
    "colab": {
     "base_uri": "https://localhost:8080/"
    },
    "id": "dgqM0KQY8474",
    "outputId": "ac40bdb2-e745-4806-b9a3-39ba313aa47e"
   },
   "outputs": [
    {
     "name": "stdout",
     "output_type": "stream",
     "text": [
      "(array([-0.04503496,  0.04548544, -0.03707147, -0.01071292], dtype=float32), {})\n",
      "State shape:  4\n",
      "Number of actions:  2\n"
     ]
    }
   ],
   "source": [
    "env = gym.make('CartPole-v1')\n",
    "print(env.reset())\n",
    "\n",
    "print('State shape: ', env.observation_space.shape[0])\n",
    "print('Number of actions: ', env.action_space.n)"
   ]
  },
  {
   "cell_type": "code",
   "execution_count": 9,
   "metadata": {
    "colab": {
     "base_uri": "https://localhost:8080/",
     "height": 391
    },
    "id": "GQ53wv7a-fEU",
    "outputId": "4e1a7bad-50eb-4014-c152-a8a628891239"
   },
   "outputs": [
    {
     "name": "stderr",
     "output_type": "stream",
     "text": [
      " 17%|█▋        | 50/300 [00:30<01:34,  2.66it/s]"
     ]
    },
    {
     "name": "stdout",
     "output_type": "stream",
     "text": [
      "Episode 50\tAverage Score: 22.42\n"
     ]
    },
    {
     "name": "stderr",
     "output_type": "stream",
     "text": [
      " 33%|███▎      | 100/300 [00:48<01:36,  2.08it/s]"
     ]
    },
    {
     "name": "stdout",
     "output_type": "stream",
     "text": [
      "Episode 100\tAverage Score: 19.11\n"
     ]
    },
    {
     "name": "stderr",
     "output_type": "stream",
     "text": [
      " 50%|█████     | 150/300 [01:12<01:58,  1.27it/s]"
     ]
    },
    {
     "name": "stdout",
     "output_type": "stream",
     "text": [
      "Episode 150\tAverage Score: 17.52\n"
     ]
    },
    {
     "name": "stderr",
     "output_type": "stream",
     "text": [
      " 67%|██████▋   | 200/300 [02:10<03:43,  2.24s/it]"
     ]
    },
    {
     "name": "stdout",
     "output_type": "stream",
     "text": [
      "Episode 200\tAverage Score: 29.56\n"
     ]
    },
    {
     "name": "stderr",
     "output_type": "stream",
     "text": [
      " 83%|████████▎ | 250/300 [04:52<02:43,  3.26s/it]"
     ]
    },
    {
     "name": "stdout",
     "output_type": "stream",
     "text": [
      "Episode 250\tAverage Score: 76.48\n"
     ]
    },
    {
     "name": "stderr",
     "output_type": "stream",
     "text": [
      "100%|██████████| 300/300 [09:34<00:00,  1.91s/it]"
     ]
    },
    {
     "name": "stdout",
     "output_type": "stream",
     "text": [
      "Episode 300\tAverage Score: 147.98\n"
     ]
    },
    {
     "name": "stderr",
     "output_type": "stream",
     "text": [
      "\n"
     ]
    }
   ],
   "source": [
    "agent = DQAgent(state_shape=env.observation_space.shape[0], action_space_size=env.action_space.n, seed=0)\n",
    "scores = dqn_train(agent)"
   ]
  },
  {
   "cell_type": "code",
   "execution_count": 10,
   "metadata": {
    "id": "u3kPJmXM4Ss4"
   },
   "outputs": [
    {
     "data": {
      "image/png": "[encoded data removed]",
      "text/plain": [
       "<Figure size 640x480 with 1 Axes>"
      ]
     },
     "metadata": {},
     "output_type": "display_data"
    }
   ],
   "source": [
    "scores = pd.Series(scores, name=\"scores\")\n",
    "scores.describe()\n",
    "fig, ax = plt.subplots(1, 1)\n",
    "_ = scores.plot(ax=ax, label=\"Scores\")\n",
    "_ = (scores.rolling(window=100)\n",
    "           .mean()\n",
    "           .rename(\"Rolling Average\")\n",
    "           .plot(ax=ax))\n",
    "ax.legend()\n",
    "_ = ax.set_xlabel(\"Episode Number\")\n",
    "_ = ax.set_ylabel(\"Score\")"
   ]
  }
 ],
 "metadata": {
  "accelerator": "GPU",
  "colab": {
   "gpuType": "T4",
   "provenance": []
  },
  "kernelspec": {
   "display_name": "venv",
   "language": "python",
   "name": "python3"
  },
  "language_info": {
   "codemirror_mode": {
    "name": "ipython",
    "version": 3
   },
   "file_extension": ".py",
   "mimetype": "text/x-python",
   "name": "python",
   "nbconvert_exporter": "python",
   "pygments_lexer": "ipython3",
   "version": "3.9.1"
  }
 },
 "nbformat": 4,
 "nbformat_minor": 0
}
