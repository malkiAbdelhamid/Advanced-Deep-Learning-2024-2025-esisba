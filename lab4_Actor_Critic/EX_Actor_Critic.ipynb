{
 "cells": [
  {
   "cell_type": "markdown",
   "metadata": {
    "collapsed": false
   },
   "source": [
    "# Actor-Critic Algorithm\n",
    "In this notebook, you'll code The Actor-Critic Algorithm from scratch: .\n",
    "\n",
    "Actor-Critic algorithm is a *Policy-based method* that aims to reduce the variance of the Reinforce algorithm and train our agent faster and better by using a combination of Policy-Based and Value-Based methods\n",
    "\n",
    "\n",
    "To test its robustness, we're going to train it in Cartpole-v1 environment"
   ]
  },
  {
   "cell_type": "markdown",
   "metadata": {
    "collapsed": false
   },
   "source": [
    "## Import the packages"
   ]
  },
  {
   "cell_type": "code",
   "execution_count": 1,
   "metadata": {},
   "outputs": [
    {
     "name": "stdout",
     "output_type": "stream",
     "text": [
      "Note: you may need to restart the kernel to use updated packages.\n"
     ]
    },
    {
     "name": "stderr",
     "output_type": "stream",
     "text": [
      "WARNING: Retrying (Retry(total=4, connect=None, read=None, redirect=None, status=None)) after connection broken by 'NewConnectionError('<pip._vendor.urllib3.connection.HTTPSConnection object at 0x000001F5DF46BCA0>: Failed to establish a new connection: [Errno 11001] getaddrinfo failed')': /simple/swig/\n",
      "WARNING: Retrying (Retry(total=3, connect=None, read=None, redirect=None, status=None)) after connection broken by 'NewConnectionError('<pip._vendor.urllib3.connection.HTTPSConnection object at 0x000001F5DF46BFD0>: Failed to establish a new connection: [Errno 11001] getaddrinfo failed')': /simple/swig/\n",
      "WARNING: Retrying (Retry(total=2, connect=None, read=None, redirect=None, status=None)) after connection broken by 'NewConnectionError('<pip._vendor.urllib3.connection.HTTPSConnection object at 0x000001F5DF494340>: Failed to establish a new connection: [Errno 11001] getaddrinfo failed')': /simple/swig/\n",
      "WARNING: Retrying (Retry(total=1, connect=None, read=None, redirect=None, status=None)) after connection broken by 'NewConnectionError('<pip._vendor.urllib3.connection.HTTPSConnection object at 0x000001F5DF4944F0>: Failed to establish a new connection: [Errno 11001] getaddrinfo failed')': /simple/swig/\n",
      "WARNING: Retrying (Retry(total=0, connect=None, read=None, redirect=None, status=None)) after connection broken by 'NewConnectionError('<pip._vendor.urllib3.connection.HTTPSConnection object at 0x000001F5DF4946A0>: Failed to establish a new connection: [Errno 11001] getaddrinfo failed')': /simple/swig/\n",
      "ERROR: Could not find a version that satisfies the requirement swig (from versions: none)\n",
      "ERROR: No matching distribution found for swig\n"
     ]
    },
    {
     "name": "stdout",
     "output_type": "stream",
     "text": [
      "Requirement already satisfied: gymnasium[box2d] in c:\\users\\friha\\.conda\\envs\\advanceddl\\lib\\site-packages (1.0.0)\n",
      "Requirement already satisfied: numpy>=1.21.0 in c:\\users\\friha\\.conda\\envs\\advanceddl\\lib\\site-packages (from gymnasium[box2d]) (2.1.2)\n",
      "Requirement already satisfied: cloudpickle>=1.2.0 in c:\\users\\friha\\.conda\\envs\\advanceddl\\lib\\site-packages (from gymnasium[box2d]) (3.1.0)\n",
      "Requirement already satisfied: typing-extensions>=4.3.0 in c:\\users\\friha\\.conda\\envs\\advanceddl\\lib\\site-packages (from gymnasium[box2d]) (4.12.2)\n",
      "Requirement already satisfied: farama-notifications>=0.0.1 in c:\\users\\friha\\.conda\\envs\\advanceddl\\lib\\site-packages (from gymnasium[box2d]) (0.0.4)\n",
      "INFO: pip is looking at multiple versions of gymnasium[box2d] to determine which version is compatible with other requirements. This could take a while.\n",
      "Note: you may need to restart the kernel to use updated packages.\n"
     ]
    },
    {
     "name": "stderr",
     "output_type": "stream",
     "text": [
      "WARNING: Retrying (Retry(total=4, connect=None, read=None, redirect=None, status=None)) after connection broken by 'NewConnectionError('<pip._vendor.urllib3.connection.HTTPSConnection object at 0x000002489D316260>: Failed to establish a new connection: [Errno 11001] getaddrinfo failed')': /simple/box2d-py/\n",
      "WARNING: Retrying (Retry(total=3, connect=None, read=None, redirect=None, status=None)) after connection broken by 'NewConnectionError('<pip._vendor.urllib3.connection.HTTPSConnection object at 0x000002489D316590>: Failed to establish a new connection: [Errno 11001] getaddrinfo failed')': /simple/box2d-py/\n",
      "WARNING: Retrying (Retry(total=2, connect=None, read=None, redirect=None, status=None)) after connection broken by 'NewConnectionError('<pip._vendor.urllib3.connection.HTTPSConnection object at 0x000002489D316740>: Failed to establish a new connection: [Errno 11001] getaddrinfo failed')': /simple/box2d-py/\n",
      "WARNING: Retrying (Retry(total=1, connect=None, read=None, redirect=None, status=None)) after connection broken by 'NewConnectionError('<pip._vendor.urllib3.connection.HTTPSConnection object at 0x000002489D3168F0>: Failed to establish a new connection: [Errno 11001] getaddrinfo failed')': /simple/box2d-py/\n",
      "WARNING: Retrying (Retry(total=0, connect=None, read=None, redirect=None, status=None)) after connection broken by 'NewConnectionError('<pip._vendor.urllib3.connection.HTTPSConnection object at 0x000002489D316AA0>: Failed to establish a new connection: [Errno 11001] getaddrinfo failed')': /simple/box2d-py/\n",
      "WARNING: Retrying (Retry(total=4, connect=None, read=None, redirect=None, status=None)) after connection broken by 'NewConnectionError('<pip._vendor.urllib3.connection.HTTPSConnection object at 0x000002489D2DBFD0>: Failed to establish a new connection: [Errno 11001] getaddrinfo failed')': /simple/gymnasium/\n",
      "WARNING: Retrying (Retry(total=3, connect=None, read=None, redirect=None, status=None)) after connection broken by 'NewConnectionError('<pip._vendor.urllib3.connection.HTTPSConnection object at 0x000002489D3156F0>: Failed to establish a new connection: [Errno 11001] getaddrinfo failed')': /simple/gymnasium/\n",
      "WARNING: Retrying (Retry(total=2, connect=None, read=None, redirect=None, status=None)) after connection broken by 'NewConnectionError('<pip._vendor.urllib3.connection.HTTPSConnection object at 0x000002489D315480>: Failed to establish a new connection: [Errno 11001] getaddrinfo failed')': /simple/gymnasium/\n",
      "WARNING: Retrying (Retry(total=1, connect=None, read=None, redirect=None, status=None)) after connection broken by 'NewConnectionError('<pip._vendor.urllib3.connection.HTTPSConnection object at 0x000002489D315360>: Failed to establish a new connection: [Errno 11001] getaddrinfo failed')': /simple/gymnasium/\n",
      "WARNING: Retrying (Retry(total=0, connect=None, read=None, redirect=None, status=None)) after connection broken by 'NewConnectionError('<pip._vendor.urllib3.connection.HTTPSConnection object at 0x000002489D314C40>: Failed to establish a new connection: [Errno 11001] getaddrinfo failed')': /simple/gymnasium/\n",
      "ERROR: Could not find a version that satisfies the requirement box2d-py==2.3.5; extra == \"box2d\" (from gymnasium[box2d]) (from versions: none)\n",
      "ERROR: No matching distribution found for box2d-py==2.3.5; extra == \"box2d\"\n"
     ]
    },
    {
     "name": "stdout",
     "output_type": "stream",
     "text": [
      "Requirement already satisfied: gymnasium in c:\\users\\friha\\.conda\\envs\\advanceddl\\lib\\site-packages (1.0.0)\n",
      "Requirement already satisfied: numpy>=1.21.0 in c:\\users\\friha\\.conda\\envs\\advanceddl\\lib\\site-packages (from gymnasium) (2.1.2)\n",
      "Requirement already satisfied: cloudpickle>=1.2.0 in c:\\users\\friha\\.conda\\envs\\advanceddl\\lib\\site-packages (from gymnasium) (3.1.0)\n",
      "Requirement already satisfied: typing-extensions>=4.3.0 in c:\\users\\friha\\.conda\\envs\\advanceddl\\lib\\site-packages (from gymnasium) (4.12.2)\n",
      "Requirement already satisfied: farama-notifications>=0.0.1 in c:\\users\\friha\\.conda\\envs\\advanceddl\\lib\\site-packages (from gymnasium) (0.0.4)\n",
      "Note: you may need to restart the kernel to use updated packages.\n"
     ]
    }
   ],
   "source": [
    "%pip install swig\n",
    "%pip install gymnasium[box2d]\n",
    "%pip install gymnasium"
   ]
  },
  {
   "cell_type": "code",
   "execution_count": 47,
   "metadata": {
    "collapsed": false
   },
   "outputs": [],
   "source": [
    "import numpy as np\n",
    "import pandas as pd\n",
    "from collections import deque\n",
    "import matplotlib.pyplot as plt\n",
    "\n",
    "# PyTorch\n",
    "import torch\n",
    "import torch.nn as nn\n",
    "import torch.nn.functional as F\n",
    "import torch.optim as optim\n",
    "from torch.distributions import Categorical\n",
    "\n",
    "# Gym\n",
    "import gymnasium as gym\n"
   ]
  },
  {
   "cell_type": "markdown",
   "metadata": {
    "collapsed": false
   },
   "source": [
    "## Check if we have a GPU\n",
    "- Let's check if we have a GPU `device:cuda0`"
   ]
  },
  {
   "cell_type": "code",
   "execution_count": 48,
   "metadata": {
    "collapsed": false
   },
   "outputs": [],
   "source": [
    "device = torch.device(\"cuda:0\" if torch.cuda.is_available() else \"cpu\")"
   ]
  },
  {
   "cell_type": "markdown",
   "metadata": {
    "collapsed": false
   },
   "source": [
    "# Agent: Playing CartPole-v1 🤖\n",
    "### The CartPole-v1 environment\n",
    "\n",
    "> A pole is attached by an un-actuated joint to a cart, which moves along a frictionless track. The pendulum is placed upright on the cart and the goal is to balance the pole by applying forces in the left and right direction on the cart.\n",
    "\n",
    "So, we start with CartPole-v1. The goal is to push the cart left or right **so that the pole stays in the equilibrium.**\n",
    "\n",
    "The episode ends if:\n",
    "- The pole Angle is greater than ±12°\n",
    "- Cart Position is greater than ±2.4\n",
    "- Episode length is greater than 500\n",
    "\n",
    "We get a reward 💰 of +1 every timestep the Pole stays in the equilibrium."
   ]
  },
  {
   "cell_type": "code",
   "execution_count": 49,
   "metadata": {
    "collapsed": false
   },
   "outputs": [],
   "source": [
    "env_id = \"CartPole-v1\"\n",
    "#env_id=\"LunarLander-v2\"\n",
    "# Create the env\n",
    "env = gym.make(env_id)\n",
    "\n",
    "\n",
    "# Get the state space and action space\n",
    "s_size = env.observation_space.shape[0]\n",
    "a_size = env.action_space.n"
   ]
  },
  {
   "cell_type": "markdown",
   "metadata": {
    "collapsed": false
   },
   "source": [
    "## Let's build the A2C algo\n"
   ]
  },
  {
   "cell_type": "code",
   "execution_count": 50,
   "metadata": {
    "collapsed": false
   },
   "outputs": [],
   "source": [
    "#Using a neural network to learn our actor (policy) parameters\n",
    "\n",
    "class Actor(nn.Module):\n",
    "    def __init__(self, s_size, a_size, h_size):\n",
    "        super(Actor, self).__init__()\n",
    "        self.fc1 = nn.Linear(s_size, h_size)\n",
    "        self.fc2 = nn.Linear(h_size, a_size)\n",
    "\n",
    "    def forward(self, x):\n",
    "        x = F.relu(self.fc1(x))\n",
    "        x = self.fc2(x)\n",
    "        return F.softmax(x, dim=1)\n",
    "\n",
    "    def act(self, state):\n",
    "\n",
    "        probs = self.forward(state)\n",
    "        m = Categorical(probs)\n",
    "        action = m.sample()\n",
    "        return action.item(), m.log_prob(action)"
   ]
  },
  {
   "cell_type": "code",
   "execution_count": 52,
   "metadata": {
    "collapsed": false
   },
   "outputs": [],
   "source": [
    "#Using a neural network to learn state value\n",
    "class Critic(nn.Module):\n",
    "\n",
    "    #Takes in state\n",
    "    def __init__(self, s_size, h_size):\n",
    "        super(Critic, self).__init__()\n",
    "\n",
    "        # two fully connected layers\n",
    "        # add code here\n",
    "        # add code here\n",
    "        self.fc1 = nn.Linear(s_size, h_size)  # Input layer\n",
    "        self.fc2 = nn.Linear(h_size, 1)       # Output layer\n",
    "\n",
    "    def forward(self, x):\n",
    "\n",
    "        #input layer\n",
    "        x = self.fc1(x)  # Input layer\n",
    "\n",
    "        #activiation relu\n",
    "        x = F.relu(x)\n",
    "\n",
    "        #get state value\n",
    "        state_value = self.fc2(x)\n",
    "\n",
    "        return state_value\n"
   ]
  },
  {
   "cell_type": "markdown",
   "metadata": {
    "collapsed": false
   },
   "source": [
    "# Building the parts of our algorithm #\n",
    "The main steps for building a A2C Algo are:\n",
    "1. Generates a trajectory\n",
    "2. Compute the discounted returns\n",
    "3. Standardization of the returns\n",
    "4. Train critic network\n",
    "5. Train actor network\n",
    "\n"
   ]
  },
  {
   "cell_type": "code",
   "execution_count": 53,
   "metadata": {
    "collapsed": false
   },
   "outputs": [],
   "source": [
    "def generate_trajectory(actor, critic, max_t):\n",
    "        saved_log_probs = []\n",
    "        rewards = []\n",
    "        state_values=[]\n",
    "\n",
    "        state, _ = env.reset()\n",
    "        for t in range(max_t):\n",
    "            state=torch.from_numpy(state).float().unsqueeze(0).to(device)\n",
    "\n",
    "            action, log_prob = actor.act(state) # add code here\n",
    "\n",
    "            # get the state value from th critic network\n",
    "            state_val= critic.forward(state) # add code here old \"critic(state)\"\n",
    "\n",
    "            next_state, reward, terminated, truncated, _ = env.step(action)\n",
    "            done = terminated or truncated\n",
    "\n",
    "            # add te obtained results to their relative lists ==> saved_log_probs, rewards, state_values\n",
    "\n",
    "            # add code here\n",
    "            # add code here\n",
    "            # add code here\n",
    "            saved_log_probs.append(log_prob)\n",
    "            rewards.append(reward)\n",
    "            state_values.append(state_val)\n",
    "\n",
    "            state=next_state\n",
    "\n",
    "            if done:\n",
    "\n",
    "                break\n",
    "\n",
    "        return  saved_log_probs, rewards, state_values"
   ]
  },
  {
   "cell_type": "code",
   "execution_count": 54,
   "metadata": {
    "collapsed": false
   },
   "outputs": [],
   "source": [
    "def computer_cumulative_reward(rewards, max_t,gamma):\n",
    "\n",
    "        returns = deque(maxlen=max_t)\n",
    "        n_steps = len(rewards)\n",
    "        for t in range(n_steps)[::-1]:\n",
    "          disc_return_t = (returns[0] if len(returns)>0 else 0)\n",
    "          returns.appendleft( rewards[t]+gamma*disc_return_t)\n",
    "        return returns"
   ]
  },
  {
   "cell_type": "code",
   "execution_count": 55,
   "metadata": {
    "collapsed": false
   },
   "outputs": [],
   "source": [
    "def returns_standardization(returns):\n",
    "        eps = np.finfo(np.float32).eps.item()\n",
    "        ## eps is the smallest representable float, which is\n",
    "        # added to the standard deviation of the returns to avoid numerical instabilities\n",
    "        returns = torch.tensor(returns).to(device)\n",
    "        returns = (returns - returns.mean()) / (returns.std() + eps)\n",
    "\n",
    "        return returns"
   ]
  },
  {
   "cell_type": "code",
   "execution_count": 56,
   "metadata": {
    "collapsed": false
   },
   "outputs": [],
   "source": [
    "\n",
    "def train_actor(actorOptimizer,saved_log_probs, returns,state_values):\n",
    "\n",
    "\n",
    "        state_values= torch.stack(state_values).squeeze()\n",
    "\n",
    "        #calculate Advantage for actor\n",
    "        advantages = [gt - val for gt, val in zip(returns, state_values)] # add code here  returns - state_values \n",
    "\n",
    "\n",
    "        #convect the advantages to a tensor\n",
    "        advantages = torch.tensor(advantages) #advantages.detach()  # add code here\n",
    "\n",
    "        actor_loss = []\n",
    "        # compute the actor loss\n",
    "        # add code here\n",
    "          \n",
    "        for log_prob, advantage in zip(saved_log_probs, advantages):\n",
    "                actor_loss.append(-log_prob * advantage)  # Negative log likelihood scaled by advantage\n",
    "\n",
    "\n",
    "        actor_loss = torch.cat(actor_loss).sum()\n",
    "        # Backpropagate actor\n",
    "        actorOptimizer.zero_grad()\n",
    "        actor_loss.backward()\n",
    "        actorOptimizer.step()\n",
    "\n"
   ]
  },
  {
   "cell_type": "code",
   "execution_count": 57,
   "metadata": {
    "collapsed": false
   },
   "outputs": [],
   "source": [
    "\n",
    "def train_critic(criticOptimizer, returns,state_values):\n",
    "        state_values= torch.stack(state_values).squeeze()\n",
    "        returns = torch.tensor(returns).float().to(device)\n",
    "        critic_loss= F.mse_loss(state_values, returns)  # add code here\n",
    "\n",
    "        # Backpropagate crtic\n",
    "        criticOptimizer.zero_grad()\n",
    "        critic_loss.backward()\n",
    "        criticOptimizer.step()\n"
   ]
  },
  {
   "cell_type": "markdown",
   "metadata": {
    "collapsed": false
   },
   "source": [
    "## Merge all functions into the Actor_Critic method ##\n",
    "\n",
    "You will now see how the overall **A2C Algo** is structured by putting together all the building blocks (functions implemented in the previous parts) together, in the right order."
   ]
  },
  {
   "cell_type": "code",
   "execution_count": 58,
   "metadata": {
    "collapsed": false
   },
   "outputs": [],
   "source": [
    "def Actor_Critic(actor,critic, actorOptimizer,criticOptimizer, n_training_episodes, max_t, gamma, print_every):\n",
    "    # Help us to calculate the score during the training\n",
    "    scores_deque = deque(maxlen=100)\n",
    "    scores = []\n",
    "\n",
    "    for i_episode in range(1, n_training_episodes+1):\n",
    "\n",
    "        # Generate an episode\n",
    "        saved_log_probs, rewards, state_values = generate_trajectory(actor, critic, max_t)  # Generate Trajectory #add code here\n",
    "        scores_deque.append(sum(rewards))\n",
    "        scores.append(sum(rewards))\n",
    "\n",
    "        # calculate the return\n",
    "        returns= computer_cumulative_reward(rewards,max_t,gamma)\n",
    "\n",
    "        ## standardization of the returns is employed to make training more stable\n",
    "        returns=returns_standardization(returns)\n",
    "\n",
    "        # Train the Critic network\n",
    "        #add code here\n",
    "        train_critic(criticOptimizer, returns, state_values) # Train critic\n",
    "        # Train the Actor network\n",
    "        #add code here\n",
    "        train_actor(actorOptimizer, saved_log_probs, returns, state_values) # Train actor\n",
    "\n",
    "\n",
    "\n",
    "        if i_episode % print_every == 0:\n",
    "            print('Episode {}\\tAverage Score: {:.2f}'.format(i_episode, np.mean(scores_deque)))\n",
    "\n",
    "    return scores"
   ]
  },
  {
   "cell_type": "markdown",
   "metadata": {
    "collapsed": false
   },
   "source": [
    "##  Train it\n",
    "- We're now ready to train our agent.\n",
    "- But first, we define a variable containing all the training hyperparameters.\n",
    "- You can change the training parameters (and should 😉)"
   ]
  },
  {
   "cell_type": "code",
   "execution_count": 67,
   "metadata": {
    "collapsed": false
   },
   "outputs": [],
   "source": [
    "cartpole_hyperparameters = {\n",
    "    \"h_size\": 64,\n",
    "    \"n_training_episodes\": 1500,\n",
    "    \"n_evaluation_episodes\": 10,\n",
    "    \"max_t\": 1000,\n",
    "    \"gamma\": 1.0,\n",
    "    \"lr\": 1e-2,\n",
    "    \"env_id\": env_id,\n",
    "    \"state_space\": s_size,\n",
    "    \"action_space\": a_size,\n",
    "}"
   ]
  },
  {
   "cell_type": "code",
   "execution_count": 68,
   "metadata": {
    "collapsed": false
   },
   "outputs": [],
   "source": [
    "# Create actor and place it to the device\n",
    "cartpole_actor = Actor(s_size, a_size, cartpole_hyperparameters[\"h_size\"]).to(device) #add code here\n",
    "\n",
    "cartpole_actorOptimizer = optim.Adam(cartpole_actor.parameters(), lr=cartpole_hyperparameters[\"lr\"]) #add code here"
   ]
  },
  {
   "cell_type": "code",
   "execution_count": 69,
   "metadata": {
    "collapsed": false
   },
   "outputs": [],
   "source": [
    "# Create critic and place it to the device\n",
    "cartpole_critic =  Critic(s_size, cartpole_hyperparameters[\"h_size\"]).to(device) #add code here\n",
    "cartpole_criticOptimizer = optim.Adam(cartpole_critic.parameters(), lr=cartpole_hyperparameters[\"lr\"]) #add code here"
   ]
  },
  {
   "cell_type": "code",
   "execution_count": null,
   "metadata": {
    "collapsed": false,
    "pycharm": {
     "is_executing": true
    }
   },
   "outputs": [
    {
     "name": "stderr",
     "output_type": "stream",
     "text": [
      "C:\\Users\\friha\\AppData\\Local\\Temp\\ipykernel_14700\\820202036.py:3: UserWarning: To copy construct from a tensor, it is recommended to use sourceTensor.clone().detach() or sourceTensor.clone().detach().requires_grad_(True), rather than torch.tensor(sourceTensor).\n",
      "  returns = torch.tensor(returns).float().to(device)\n"
     ]
    },
    {
     "name": "stdout",
     "output_type": "stream",
     "text": [
      "Episode 100\tAverage Score: 87.76\n",
      "Episode 200\tAverage Score: 352.64\n",
      "Episode 300\tAverage Score: 463.70\n",
      "Episode 400\tAverage Score: 489.91\n",
      "Episode 500\tAverage Score: 454.36\n",
      "Episode 600\tAverage Score: 500.00\n",
      "Episode 700\tAverage Score: 489.86\n",
      "Episode 800\tAverage Score: 497.43\n",
      "Episode 900\tAverage Score: 500.00\n"
     ]
    }
   ],
   "source": [
    "scores = Actor_Critic(cartpole_actor,\n",
    "                   cartpole_critic,cartpole_actorOptimizer,cartpole_criticOptimizer,\n",
    "                   cartpole_hyperparameters[\"n_training_episodes\"],\n",
    "                   cartpole_hyperparameters[\"max_t\"],\n",
    "                   cartpole_hyperparameters[\"gamma\"],\n",
    "                   100)"
   ]
  },
  {
   "cell_type": "code",
   "execution_count": 44,
   "metadata": {
    "collapsed": false,
    "pycharm": {
     "is_executing": true
    }
   },
   "outputs": [
    {
     "data": {
      "text/plain": [
       "count    1000.000000\n",
       "mean      367.209000\n",
       "std       176.024072\n",
       "min        10.000000\n",
       "25%       171.750000\n",
       "50%       500.000000\n",
       "75%       500.000000\n",
       "max       500.000000\n",
       "Name: scores_Actor, dtype: float64"
      ]
     },
     "execution_count": 44,
     "metadata": {},
     "output_type": "execute_result"
    }
   ],
   "source": [
    "scores= pd.Series(scores, name=\"scores_Actor\")\n",
    "scores.describe()"
   ]
  },
  {
   "cell_type": "code",
   "execution_count": 45,
   "metadata": {
    "collapsed": false,
    "pycharm": {
     "is_executing": true
    }
   },
   "outputs": [
    {
     "data": {
      "image/png": "[encoded data removed]",
      "text/plain": [
       "<Figure size 640x480 with 1 Axes>"
      ]
     },
     "metadata": {},
     "output_type": "display_data"
    }
   ],
   "source": [
    "fig, ax = plt.subplots(1, 1)\n",
    "_ = scores.plot(ax=ax, label=\"scores_Actor\")\n",
    "_ = (scores.rolling(window=100)\n",
    "           .mean()\n",
    "           .rename(\"Rolling Average\")\n",
    "           .plot(ax=ax))\n",
    "ax.legend()\n",
    "_ = ax.set_xlabel(\"Episode Number\")\n",
    "_ = ax.set_ylabel(\"scores_Actor\")"
   ]
  },
  {
   "cell_type": "code",
   "execution_count": null,
   "metadata": {
    "collapsed": false,
    "pycharm": {
     "is_executing": true
    }
   },
   "outputs": [],
   "source": [
    "# Evaluate the trained agent\n",
    "def evaluate_agent(actor, env, n_episodes=10, max_t=1000):\n",
    "    \"\"\"Evaluates the trained agent's performance over multiple episodes.\n",
    "\n",
    "    Args:\n",
    "        actor: The trained actor network.\n",
    "        env: The environment to evaluate in.\n",
    "        n_episodes: The number of episodes to run for evaluation.\n",
    "        max_t: The maximum number of timesteps per episode.\n",
    "\n",
    "    Returns:\n",
    "        A list of the total rewards obtained in each episode.\n",
    "    \"\"\"\n",
    "    episode_rewards = []\n",
    "    for _ in range(n_episodes):\n",
    "        state, _ = env.reset()\n",
    "        total_reward = 0\n",
    "        for t in range(max_t):\n",
    "            state = torch.from_numpy(state).float().unsqueeze(0).to(device)\n",
    "            action, _ = actor.act(state) # Get action (log_prob not needed for evaluation)\n",
    "            state, reward, terminated, truncated, _ = env.step(action)\n",
    "            total_reward += reward\n",
    "            if terminated or truncated:\n",
    "                break\n",
    "        episode_rewards.append(total_reward)\n",
    "    return episode_rewards\n",
    "\n",
    "# Create a new environment for evaluation (important - don't reuse training env)\n",
    "eval_env = gym.make(env_id)\n",
    "\n",
    "# Evaluate the agent\n",
    "eval_rewards = evaluate_agent(cartpole_actor, eval_env, n_episodes=100) # e.g. 100 evaluation episodes\n",
    "\n",
    "# Print average reward\n",
    "average_reward = np.mean(eval_rewards)\n",
    "print(f\"Average Reward over {len(eval_rewards)} episodes: {average_reward:.2f}\")\n",
    "\n",
    "\n",
    "# You can also print other stats like standard deviation or min/max rewards\n",
    "print(f\"Standard Deviation of rewards: {np.std(eval_rewards):.2f}\")\n",
    "print(f\"Minimum reward: {np.min(eval_rewards)}\")\n",
    "print(f\"Maximum reward: {np.max(eval_rewards)}\")\n",
    "\n",
    "# Plot the evaluation rewards\n",
    "plt.plot(eval_rewards)\n",
    "plt.xlabel(\"Episode\")\n",
    "plt.ylabel(\"Reward\")\n",
    "plt.title(\"Evaluation Rewards\")\n",
    "plt.show()\n",
    "\n",
    "\n",
    "\n",
    "eval_env.close() # good practice to close the environment"
   ]
  }
 ],
 "metadata": {
  "kernelspec": {
   "display_name": "AdvancedDL",
   "language": "python",
   "name": "python3"
  },
  "language_info": {
   "codemirror_mode": {
    "name": "ipython",
    "version": 3
   },
   "file_extension": ".py",
   "mimetype": "text/x-python",
   "name": "python",
   "nbconvert_exporter": "python",
   "pygments_lexer": "ipython3",
   "version": "3.10.12"
  }
 },
 "nbformat": 4,
 "nbformat_minor": 0
}
